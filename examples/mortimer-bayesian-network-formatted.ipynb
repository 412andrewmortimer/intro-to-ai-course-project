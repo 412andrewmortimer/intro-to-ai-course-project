{
 "cells": [
  {
   "cell_type": "markdown",
   "id": "039ac5b0",
   "metadata": {},
   "source": [
    "\n",
    "# **Bayesian Network for Intrusion Detection Systems (IDS)**\n",
    "### **A Probabilistic Approach to Cybersecurity**\n",
    "---\n",
    "\n",
    "## **Introduction**\n",
    "In this notebook, we implement a **Bayesian Network** to analyze **Intrusion Detection Systems (IDS)**.\n",
    "This probabilistic model helps us **assess the likelihood of a real cyberattack** given various factors.\n",
    "\n",
    "Using **Bayes' Theorem**, we incorporate:\n",
    "- **User Behavior**: Whether a user is normal, suspicious, or malicious.\n",
    "- **Firewall Detection**: Whether an attack is independently detected by a firewall.\n",
    "- **IDS Alert**: Whether the IDS triggers an alert.\n",
    "\n",
    "---\n",
    "## **Objective**\n",
    "The key question we answer:\n",
    "> **\"If an IDS alert is triggered, what is the probability that it corresponds to a real attack?\"**\n",
    "\n",
    "To achieve this, we construct a **Bayesian Network** and compute **conditional probabilities** for different scenarios.\n"
   ]
  },
  {
   "cell_type": "markdown",
   "id": "41098663",
   "metadata": {},
   "source": [
    "\n",
    "## **Bayesian Network Structure**\n",
    "The Bayesian Network is structured as follows:\n",
    "\n",
    "- **Attack (A)** → Influences IDS Alert (B) and Firewall Detection (D).\n",
    "- **User Behavior (C)** → Influences IDS Alert (B).\n",
    "\n",
    "The network can be represented as:\n",
    "\n",
    "```\n",
    "  Attack (A) → IDS Alert (B)\n",
    "  Attack (A) → Firewall Detection (D)\n",
    "  User Behavior (C) → IDS Alert (B)\n",
    "```\n",
    "\n",
    "This structure allows us to **combine multiple factors** when evaluating security alerts.\n"
   ]
  },
  {
   "cell_type": "code",
   "execution_count": 1,
   "id": "aee5e33e",
   "metadata": {},
   "outputs": [
    {
     "data": {
      "image/png": "[encoded data removed]",
      "text/plain": [
       "<Figure size 600x400 with 1 Axes>"
      ]
     },
     "metadata": {},
     "output_type": "display_data"
    }
   ],
   "source": [
    "\n",
    "import networkx as nx\n",
    "import matplotlib.pyplot as plt\n",
    "\n",
    "# Define the Bayesian Network Structure as a dictionary\n",
    "bayesian_network = {\n",
    "    'A': ['B', 'D'],  # Attack (A) influences IDS Alert (B) and Firewall Detection (D)\n",
    "    'C': ['B']        # User Behavior (C) influences IDS Alert (B)\n",
    "}\n",
    "\n",
    "# Visualize the Bayesian Network Structure using NetworkX\n",
    "plt.figure(figsize=(6, 4))\n",
    "G = nx.DiGraph(bayesian_network)  # Convert dictionary into a directed graph\n",
    "nx.draw(G, with_labels=True, node_color=\"lightblue\", edge_color=\"black\", font_weight=\"bold\")\n",
    "plt.title(\"Bayesian Network for Intrusion Detection (IDS)\")\n",
    "plt.show()\n"
   ]
  },
  {
   "cell_type": "markdown",
   "id": "d850c14b",
   "metadata": {},
   "source": [
    "\n",
    "## **Defining Conditional Probability Tables (CPTs)**\n",
    "In a **Bayesian Network**, we need **probability distributions** to define how variables influence each other.\n",
    "\n",
    "We define the **Conditional Probability Tables (CPTs)** for:\n",
    "- **Attack Probability (A)**\n",
    "- **IDS Alert Probability (B) given Attack (A) and User Behavior (C)**\n",
    "- **User Behavior Probability (C)**\n",
    "- **Firewall Detection Probability (D) given Attack (A)**\n"
   ]
  },
  {
   "cell_type": "code",
   "execution_count": 2,
   "id": "e6c9d622",
   "metadata": {},
   "outputs": [],
   "source": [
    "\n",
    "# Define Conditional Probability Tables (CPTs) as dictionaries\n",
    "\n",
    "# Prior probability of an attack occurring (A)\n",
    "CPT_A = {'A=1': 0.02, 'A=0': 0.98}  # 2% chance of an attack, 98% chance of no attack\n",
    "\n",
    "# Probability of IDS Alert (B) given Attack (A) and User Behavior (C)\n",
    "CPT_B = {\n",
    "    ('A=1', 'C=0'): {'B=1': 0.90, 'B=0': 0.10},\n",
    "    ('A=1', 'C=1'): {'B=1': 0.10, 'B=0': 0.90},\n",
    "    ('A=1', 'C=2'): {'B=1': 0.05, 'B=0': 0.95},\n",
    "    ('A=0', 'C=0'): {'B=1': 0.40, 'B=0': 0.60},\n",
    "    ('A=0', 'C=1'): {'B=1': 0.80, 'B=0': 0.20},\n",
    "    ('A=0', 'C=2'): {'B=1': 0.10, 'B=0': 0.90}\n",
    "}\n",
    "\n",
    "# Probability distribution of different user behaviors (C)\n",
    "CPT_C = {'C=0': 0.85, 'C=1': 0.10, 'C=2': 0.05}  # 85% Normal Users, 10% Suspicious, 5% Malicious\n",
    "\n",
    "# Probability of Firewall Detection (D) given an Attack (A)\n",
    "CPT_D = {\n",
    "    'A=1': {'D=1': 0.85, 'D=0': 0.15},  # Attack → 85% Detected, 15% Missed\n",
    "    'A=0': {'D=1': 0.05, 'D=0': 0.95}   # No Attack → 5% False Positive, 95% No Detection\n",
    "}\n"
   ]
  },
  {
   "cell_type": "markdown",
   "id": "acceed9e",
   "metadata": {},
   "source": [
    "\n",
    "## **Bayesian Inference**\n",
    "Now, we use **Bayes’ Theorem** to compute the probability of an attack given different evidence scenarios.\n",
    "\n",
    "We define a function to calculate:\n",
    "\n",
    "\\$\n",
    "P(A=1 | B, C, D) = \\frac{P(A=1) P(B | A=1, C) P(D | A=1)}{P(A=1) P(B | A=1, C) P(D | A=1) + P(A=0) P(B | A=0, C) P(D | A=0)}\n",
    "\\$\n"
   ]
  },
  {
   "cell_type": "code",
   "execution_count": 5,
   "id": "20271212",
   "metadata": {},
   "outputs": [
    {
     "name": "stdout",
     "output_type": "stream",
     "text": [
      "Probability of a Real Attack given IDS Alert & Firewall Detection: 0.4384\n"
     ]
    }
   ],
   "source": [
    "\n",
    "# Function to Perform Bayesian Inference Manually\n",
    "def bayesian_inference(evidence):\n",
    "    \"\"\"Compute probability of an Attack (A=1) given observed evidence using Bayes' Theorem.\"\"\"\n",
    "    \n",
    "    # Convert evidence values to string format for dictionary lookups\n",
    "    ev_B = f'B={evidence[\"B\"]}'\n",
    "    ev_D = f'D={evidence[\"D\"]}'\n",
    "    ev_C = f'C={evidence[\"C\"]}'\n",
    "    \n",
    "    # Compute numerator: P(A=1) * P(B | A=1, C) * P(D | A=1)\n",
    "    numerator = CPT_A['A=1'] * CPT_B[('A=1', ev_C)][ev_B] * CPT_D['A=1'][ev_D]\n",
    "    \n",
    "    # Compute denominator: Total probability considering both A=1 and A=0 cases\n",
    "    denominator = (\n",
    "        numerator +\n",
    "        CPT_A['A=0'] * CPT_B[('A=0', ev_C)][ev_B] * CPT_D['A=0'][ev_D]\n",
    "    )\n",
    "    \n",
    "    # Compute final conditional probability P(A=1 | B, C, D)\n",
    "    return numerator / denominator\n",
    "\n",
    "# Example scenario: IDS Alert (B=1), Firewall Detection (D=1), User Normal (C=0)\n",
    "evidence = {'B': 1, 'D': 1, 'C': 0}\n",
    "probability = bayesian_inference(evidence)\n",
    "print(f\"Probability of a Real Attack given IDS Alert & Firewall Detection: {probability:.4f}\")\n"
   ]
  }
 ],
 "metadata": {
  "kernelspec": {
   "display_name": ".venv",
   "language": "python",
   "name": "python3"
  },
  "language_info": {
   "codemirror_mode": {
    "name": "ipython",
    "version": 3
   },
   "file_extension": ".py",
   "mimetype": "text/x-python",
   "name": "python",
   "nbconvert_exporter": "python",
   "pygments_lexer": "ipython3",
   "version": "3.9.6"
  }
 },
 "nbformat": 4,
 "nbformat_minor": 5
}
