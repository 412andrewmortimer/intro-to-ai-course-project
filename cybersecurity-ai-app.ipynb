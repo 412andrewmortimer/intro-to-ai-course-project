{
 "cells": [
  {
   "cell_type": "markdown",
   "metadata": {},
   "source": [
    "# Cybersecurity AI Application Architecture\n",
    "\n",
    "```mermaid\n",
    "graph TD\n",
    "    %% Main Application\n",
    "    A[cybersec_app.py] --> B[Agent Layer]\n",
    "    \n",
    "    %% Agent connects to all modules\n",
    "    B --> C1[Bayesian Analysis Module]\n",
    "    B --> C2[Markov Decision Process Module]\n",
    "    B --> C4[Service Impact Analysis Module]\n",
    "    \n",
    "    %% Bayesian Module Components\n",
    "    C1 --> D1[bayesian_ids.py]\n",
    "    C1 --> D2[bayesian_network.py]\n",
    "    \n",
    "    %% MDP Module\n",
    "    C2 --> D3[markov_process.py]\n",
    "    \n",
    "    %% Service Impact Analysis Module\n",
    "    C4 --> D5[service_impact.py]\n",
    "    \n",
    "    %% Data Storage\n",
    "    E[Data Storage Layer]\n",
    "    D1 --> E\n",
    "    D2 --> E\n",
    "    D3 --> E\n",
    "    D5 --> E\n",
    "    \n",
    "    %% Module Descriptions\n",
    "    classDef module fill:#f9f,stroke:#333,stroke-width:2px\n",
    "    classDef component fill:#bbf,stroke:#333,stroke-width:1px\n",
    "    \n",
    "    class A,B module\n",
    "    class C1,C2,C4 module\n",
    "    class D1,D2,D3,D5,E component\n",
    "```\n",
    "\n",
    "## Module Descriptions\n",
    "\n",
    "### Agent Layer\n",
    "- Implements the intelligent agent from Week 1\n",
    "- Uses search algorithms to detect and respond to changes\n",
    "- Acts as a simple reflex agent that processes inputs and determines appropriate actions\n",
    "\n",
    "### Bayesian Analysis Module\n",
    "- **bayesian_ids.py**: Simple Bayesian analysis for intrusion detection systems\n",
    "- **bayesian_network.py**: Extended Bayesian network model incorporating multiple security factors\n",
    "\n",
    "### Markov Decision Process Module\n",
    "- **markov_process.py**: MDP implementation for optimal security response policies\n",
    "\n",
    "### Service Impact Analysis Module\n",
    "- **service_impact.py**: DFS/BFS search algorithms for CI/CD pipeline optimization\n",
    "\n",
    "### Data Storage Layer\n",
    "- Persists analysis results and configurations\n",
    "- Enables sharing of information between modules\n",
    "\n",
    "## Data Flow\n",
    "\n",
    "1. Agent perceives the environment through sensors\n",
    "2. Agent selects appropriate module based on perceived data\n",
    "3. Selected module processes the input using AI algorithms\n",
    "4. Results are used by the agent to determine actions\n",
    "5. Key insights and configurations stored in data layer\n",
    "\n",
    "This architecture implements an agent-based approach where the agent uses different AI techniques to monitor and respond to cybersecurity events. The agent replaces the traditional UI, providing more automated operation based on the search algorithms developed in Week 1.\n"
   ]
  },
  {
   "cell_type": "markdown",
   "metadata": {},
   "source": [
    "# Running the Cybersecurity AI Application\n",
    "\n",
    "This notebook allows you to run and test the Cybersecurity AI application directly. Below are the code cells needed to initialize and run the application."
   ]
  },
  {
   "cell_type": "markdown",
   "metadata": {},
   "source": [
    "## 1. Import Required Modules"
   ]
  },
  {
   "cell_type": "code",
   "execution_count": 18,
   "metadata": {},
   "outputs": [],
   "source": [
    "# Import necessary modules\n",
    "import time\n",
    "import random\n",
    "import sys\n",
    "import os\n",
    "\n",
    "# Ensure the module paths are correct\n",
    "module_path = os.path.abspath(os.path.join('.'))\n",
    "if module_path not in sys.path:\n",
    "    sys.path.append(module_path)\n",
    "\n",
    "# Import the Agent\n",
    "from agent import Agent"
   ]
  },
  {
   "cell_type": "markdown",
   "metadata": {},
   "source": [
    "## 2. Define Mock Data Generation Function"
   ]
  },
  {
   "cell_type": "code",
   "execution_count": 19,
   "metadata": {},
   "outputs": [],
   "source": [
    "def generate_mock_data(event_type):\n",
    "    \"\"\"Generate mock data for different event types for simulation\"\"\"\n",
    "    if event_type == 'login_attempt':\n",
    "        return {\n",
    "            'username': random.choice(['admin', 'user1', 'guest']),\n",
    "            'source_ip': f'192.168.1.{random.randint(1, 254)}' if random.random() > 0.3 else f'10.0.0.{random.randint(1, 254)}',\n",
    "            'timestamp': time.time(),\n",
    "            'successful': random.choice([True, False])\n",
    "        }\n",
    "    elif event_type == 'service_change':\n",
    "        # Randomly include a known malicious commit 5% of the time\n",
    "        if random.random() < 0.05:\n",
    "            commit_sha = 'a1b2c3d4e5f6a1b2c3d4e5f6a1b2c3d4e5f6a1b2'  # Known malicious\n",
    "        else:\n",
    "            commit_sha = ''.join(random.choices('abcdef1234567890', k=40))\n",
    "            \n",
    "        return {\n",
    "            'service': random.choice(['Auth Service', 'API Gateway', 'User Service', 'unknown_service']),\n",
    "            'change_type': random.choice(['code_update', 'configuration_change', 'dependency_update']),\n",
    "            'commit_sha': commit_sha\n",
    "        }\n",
    "    elif event_type == 'git_activity':\n",
    "        # Generate mock git activity events\n",
    "        git_event_types = ['push', 'clone', 'branch']\n",
    "        selected_event = random.choice(git_event_types)\n",
    "        \n",
    "        # Common fields\n",
    "        event_data = {\n",
    "            'event_type': selected_event,\n",
    "            'repo_name': random.choice(['main-service', 'auth-service', 'payment-api', 'user-interface']),\n",
    "            'user': random.choice(['developer1', 'developer2', 'admin', 'unknown_user']),\n",
    "            'timestamp': time.time(),\n",
    "            'ip_address': f'192.168.1.{random.randint(1, 254)}' if random.random() > 0.2 else f'203.0.113.{random.randint(1, 254)}'\n",
    "        }\n",
    "        \n",
    "        # Add event-specific fields\n",
    "        if selected_event == 'push':\n",
    "            # Generate 1-12 commits\n",
    "            num_commits = random.randint(1, 12)\n",
    "            event_data['commits'] = []\n",
    "            for _ in range(num_commits):\n",
    "                commit = {\n",
    "                    'commit_sha': ''.join(random.choices('abcdef1234567890', k=40)),\n",
    "                    'message': random.choice(['Update README', 'Fix bug in auth module', 'Add new feature', 'Refactor code', 'Update dependencies']),\n",
    "                    'files_changed': []\n",
    "                }\n",
    "                # Add 1-5 changed files\n",
    "                num_files = random.randint(1, 5)\n",
    "                file_paths = [\n",
    "                    'src/main.py', 'config/settings.json', 'docs/README.md',\n",
    "                    'src/auth/login.py', 'tests/test_api.py', 'security/encryption.py',\n",
    "                    'src/models/user.py', '.env.example', 'config/secrets.py'\n",
    "                ]\n",
    "                commit['files_changed'] = random.sample(file_paths, min(num_files, len(file_paths)))\n",
    "                event_data['commits'].append(commit)\n",
    "                \n",
    "            # Small chance of being a force push\n",
    "            event_data['force_push'] = random.random() < 0.1\n",
    "            \n",
    "        elif selected_event == 'branch':\n",
    "            # Branch creation or deletion\n",
    "            event_data['action'] = random.choice(['created', 'deleted'])\n",
    "            branch_prefixes = ['feature/', 'bugfix/', 'hotfix/', 'release/', 'temp/', 'test/']\n",
    "            event_data['branch_name'] = random.choice(branch_prefixes) + random.choice(['auth-update', 'payment-fix', 'ui-redesign', 'admin-tools', 'security-patch'])\n",
    "            \n",
    "            # For deleted branches, add age\n",
    "            if event_data['action'] == 'deleted':\n",
    "                event_data['branch_age_hours'] = random.uniform(0.5, 120)  # 30 minutes to 5 days\n",
    "        \n",
    "        # Clone events have all necessary data already\n",
    "            \n",
    "        return event_data\n",
    "    else:  # network_traffic\n",
    "        return {\n",
    "            'source_ip': f'192.168.1.{random.randint(1, 254)}' if random.random() > 0.2 else f'8.8.8.{random.randint(1, 254)}',\n",
    "            'destination_ip': f'10.0.0.{random.randint(1, 254)}',\n",
    "            'protocol': random.choice(['TCP', 'UDP', 'HTTP']),\n",
    "            'packet_count': random.randint(10, 1000)\n",
    "        }"
   ]
  },
  {
   "cell_type": "markdown",
   "metadata": {},
   "source": [
    "## 3. Initialize the Agent"
   ]
  },
  {
   "cell_type": "code",
   "execution_count": 20,
   "metadata": {},
   "outputs": [
    {
     "name": "stdout",
     "output_type": "stream",
     "text": [
      "Starting Cybersecurity AI Application...\n",
      "Initializing agent and modules...\n",
      "Agent initialized with all modules\n",
      "Agent initialization complete.\n"
     ]
    }
   ],
   "source": [
    "# Create and initialize the agent\n",
    "print(\"Starting Cybersecurity AI Application...\")\n",
    "print(\"Initializing agent and modules...\")\n",
    "\n",
    "agent = Agent()\n",
    "print(\"Agent initialization complete.\")"
   ]
  },
  {
   "cell_type": "markdown",
   "metadata": {},
   "source": [
    "## 4. Run Test Cases\n",
    "\n",
    "### 4.1 Test Login Attempt Detection"
   ]
  },
  {
   "cell_type": "code",
   "execution_count": 21,
   "metadata": {},
   "outputs": [
    {
     "name": "stdout",
     "output_type": "stream",
     "text": [
      "--- Testing Login Attempt Detection ---\n",
      "Event data: {'username': 'admin', 'source_ip': '10.0.0.25', 'timestamp': 1741800069.5536919, 'successful': False}\n",
      "Agent response: MEDIUM ALERT: Suspicious activity detected (confidence: 0.66)\n",
      "\n"
     ]
    }
   ],
   "source": [
    "# Test with a suspicious login attempt (admin, failed login)\n",
    "suspicious_login = {\n",
    "    'username': 'admin',\n",
    "    'source_ip': '10.0.0.25',  # External IP\n",
    "    'timestamp': time.time(),\n",
    "    'successful': False  # Failed login\n",
    "}\n",
    "\n",
    "print(\"--- Testing Login Attempt Detection ---\")\n",
    "print(f\"Event data: {suspicious_login}\")\n",
    "action = agent.process_event('login_attempt', suspicious_login)\n",
    "print(f\"Agent response: {action}\\n\")"
   ]
  },
  {
   "cell_type": "markdown",
   "metadata": {},
   "source": [
    "### 4.2 Test Service Change Impact Analysis"
   ]
  },
  {
   "cell_type": "code",
   "execution_count": 22,
   "metadata": {},
   "outputs": [
    {
     "name": "stdout",
     "output_type": "stream",
     "text": [
      "--- Testing Service Change Impact Analysis ---\n",
      "Event data: {'service': 'API Gateway', 'change_type': 'configuration_change', 'commit_sha': 'a1b2c3d4e5f6a1b2c3d4e5f6a1b2c3d4e5f6a1b2'}\n",
      "Agent response: SECURITY ALERT: Suspicious commit detected in API Gateway! Impacts 8 services. Recommend immediate review.\n",
      "\n"
     ]
    }
   ],
   "source": [
    "# Test with a suspicious service change (known malicious commit)\n",
    "suspicious_change = {\n",
    "    'service': 'API Gateway',\n",
    "    'change_type': 'configuration_change',\n",
    "    'commit_sha': 'a1b2c3d4e5f6a1b2c3d4e5f6a1b2c3d4e5f6a1b2'  # Known malicious\n",
    "}\n",
    "\n",
    "print(\"--- Testing Service Change Impact Analysis ---\")\n",
    "print(f\"Event data: {suspicious_change}\")\n",
    "action = agent.process_event('service_change', suspicious_change)\n",
    "print(f\"Agent response: {action}\\n\")"
   ]
  },
  {
   "cell_type": "markdown",
   "metadata": {},
   "source": [
    "### 4.3 Test Network Traffic Analysis"
   ]
  },
  {
   "cell_type": "code",
   "execution_count": 23,
   "metadata": {},
   "outputs": [
    {
     "name": "stdout",
     "output_type": "stream",
     "text": [
      "--- Testing Network Traffic Analysis ---\n",
      "Event data: {'source_ip': '8.8.8.45', 'destination_ip': '10.0.0.10', 'protocol': 'UDP', 'packet_count': 950}\n",
      "Agent response: NETWORK ACTION: Flag for manual review (risk level: 0.58)\n",
      "\n"
     ]
    }
   ],
   "source": [
    "# Test with suspicious network traffic (high volume, external source)\n",
    "suspicious_traffic = {\n",
    "    'source_ip': '8.8.8.45',  # External IP\n",
    "    'destination_ip': '10.0.0.10',\n",
    "    'protocol': 'UDP',  # More suspicious than HTTP\n",
    "    'packet_count': 950  # High volume\n",
    "}\n",
    "\n",
    "print(\"--- Testing Network Traffic Analysis ---\")\n",
    "print(f\"Event data: {suspicious_traffic}\")\n",
    "action = agent.process_event('network_traffic', suspicious_traffic)\n",
    "print(f\"Agent response: {action}\\n\")"
   ]
  },
  {
   "cell_type": "markdown",
   "metadata": {},
   "source": [
    "### 4.4 Test Git Activity Monitoring"
   ]
  },
  {
   "cell_type": "code",
   "execution_count": 24,
   "metadata": {},
   "outputs": [
    {
     "name": "stdout",
     "output_type": "stream",
     "text": [
      "--- Testing Git Activity Monitoring ---\n",
      "Event data: {'event_type': 'push', 'repo_name': 'auth-service', 'user': 'developer1', 'timestamp': 1741756869.570909, 'ip_address': '203.0.113.45', 'commits': [{'commit_sha': 'abc123def456abc123def456abc123def456abc1', 'message': 'quick fix', 'files_changed': ['security/auth.py', 'config/secrets.py', '.env']}], 'force_push': True}\n",
      "Agent response: Unknown event type, no action taken\n",
      "\n"
     ]
    }
   ],
   "source": [
    "# Test with suspicious git activity\n",
    "suspicious_git_activity = {\n",
    "    'event_type': 'push',\n",
    "    'repo_name': 'auth-service',\n",
    "    'user': 'developer1',\n",
    "    'timestamp': time.time() - 12 * 3600,  # 12 hours ago (middle of night)\n",
    "    'ip_address': '203.0.113.45',  # External IP\n",
    "    'commits': [\n",
    "        {\n",
    "            'commit_sha': 'abc123def456abc123def456abc123def456abc1',\n",
    "            'message': 'quick fix',\n",
    "            'files_changed': ['security/auth.py', 'config/secrets.py', '.env']\n",
    "        }\n",
    "    ],\n",
    "    'force_push': True\n",
    "}\n",
    "\n",
    "print(\"--- Testing Git Activity Monitoring ---\")\n",
    "print(f\"Event data: {suspicious_git_activity}\")\n",
    "action = agent.process_event('git_activity', suspicious_git_activity)\n",
    "print(f\"Agent response: {action}\\n\")"
   ]
  },
  {
   "cell_type": "markdown",
   "metadata": {},
   "source": [
    "## 5. Run a Full Simulation"
   ]
  },
  {
   "cell_type": "code",
   "execution_count": 25,
   "metadata": {},
   "outputs": [
    {
     "name": "stdout",
     "output_type": "stream",
     "text": [
      "\n",
      "Running full cybersecurity monitoring simulation:\n",
      "\n",
      "--- Monitoring Cycle 1 ---\n",
      "Event detected: login_attempt\n",
      "Event data: {'username': 'guest', 'source_ip': '10.0.0.167', 'timestamp': 1741800069.576135, 'successful': True}\n",
      "Agent response: LOW ALERT: Normal login activity (confidence: 0.78)\n",
      "\n",
      "--- Monitoring Cycle 2 ---\n",
      "Event detected: service_change\n",
      "Event data: {'service': 'unknown_service', 'change_type': 'code_update', 'commit_sha': 'b232b68f3e64583c76ffab7a952493134d0a16c4'}\n",
      "Agent response: SECURITY ALERT: Suspicious commit detected in unknown_service! Impacts 0 services. Recommend immediate review.\n",
      "\n",
      "--- Monitoring Cycle 3 ---\n",
      "Event detected: service_change\n",
      "Event data: {'service': 'unknown_service', 'change_type': 'code_update', 'commit_sha': 'baf51bb0961adc9b704f4da696595ecb3a14d583'}\n",
      "Agent response: SECURITY ALERT: Suspicious commit detected in unknown_service! Impacts 0 services. Recommend immediate review.\n",
      "\n",
      "--- Monitoring Cycle 4 ---\n",
      "Event detected: git_activity\n",
      "Event data: {'event_type': 'clone', 'repo_name': 'user-interface', 'user': 'developer1', 'timestamp': 1741800069.576214, 'ip_address': '192.168.1.49'}\n",
      "Agent response: Unknown event type, no action taken\n",
      "\n",
      "--- Monitoring Cycle 5 ---\n",
      "Event detected: git_activity\n",
      "Event data: {'event_type': 'clone', 'repo_name': 'payment-api', 'user': 'developer2', 'timestamp': 1741800069.5762281, 'ip_address': '203.0.113.217'}\n",
      "Agent response: Unknown event type, no action taken\n",
      "\n",
      "--- Monitoring Cycle 6 ---\n",
      "Event detected: service_change\n",
      "Event data: {'service': 'unknown_service', 'change_type': 'configuration_change', 'commit_sha': 'baf92402bc0df0990d888a8a67d7947506161503'}\n",
      "Agent response: SECURITY ALERT: Suspicious commit detected in unknown_service! Impacts 0 services. Recommend immediate review.\n",
      "\n",
      "--- Monitoring Cycle 7 ---\n",
      "Event detected: git_activity\n",
      "Event data: {'event_type': 'push', 'repo_name': 'main-service', 'user': 'admin', 'timestamp': 1741800069.57626, 'ip_address': '192.168.1.38', 'commits': [{'commit_sha': '535c89617a35a2cedf59c93aff4dd42cd1693515', 'message': 'Update dependencies', 'files_changed': ['security/encryption.py', 'src/main.py', 'tests/test_api.py', '.env.example']}, {'commit_sha': '6f4cd655d0ff675bed5131134c2c5fb3a69abdc4', 'message': 'Update README', 'files_changed': ['src/main.py']}, {'commit_sha': 'e4c0e77199f6e6ed5086e0471efbfc3b97b1fe97', 'message': 'Update README', 'files_changed': ['src/models/user.py', 'config/settings.json', 'docs/README.md']}, {'commit_sha': 'da5e395de0567a509d0511d9fbb68398aa2e5ed4', 'message': 'Update README', 'files_changed': ['src/models/user.py', 'config/settings.json', 'security/encryption.py', 'tests/test_api.py', 'config/secrets.py']}, {'commit_sha': 'c03edde25f7260b7c4a265e80bae787953342d6c', 'message': 'Fix bug in auth module', 'files_changed': ['src/main.py', 'config/settings.json']}, {'commit_sha': '7d3d839ecec3e377ca79d53b2f81a94c086e5fdb', 'message': 'Update README', 'files_changed': ['src/models/user.py', 'src/main.py', 'security/encryption.py', '.env.example']}, {'commit_sha': 'e64ca90206af3b6c7c0f2e32c921cc261e339000', 'message': 'Add new feature', 'files_changed': ['security/encryption.py', 'src/models/user.py', 'tests/test_api.py', 'src/auth/login.py', 'config/settings.json']}, {'commit_sha': 'd1341876a834f7dc614235557a4b8f6bfd55c31f', 'message': 'Add new feature', 'files_changed': ['src/auth/login.py', 'security/encryption.py']}, {'commit_sha': '30294212fa9c5f63cac8ea63bddcae97377759e8', 'message': 'Add new feature', 'files_changed': ['.env.example', 'config/settings.json']}], 'force_push': False}\n",
      "Agent response: Unknown event type, no action taken\n",
      "\n",
      "--- Monitoring Cycle 8 ---\n",
      "Event detected: git_activity\n",
      "Event data: {'event_type': 'clone', 'repo_name': 'auth-service', 'user': 'developer1', 'timestamp': 1741800069.576365, 'ip_address': '192.168.1.106'}\n",
      "Agent response: Unknown event type, no action taken\n",
      "\n",
      "--- Monitoring Cycle 9 ---\n",
      "Event detected: login_attempt\n",
      "Event data: {'username': 'user1', 'source_ip': '192.168.1.245', 'timestamp': 1741800069.5763788, 'successful': True}\n",
      "Agent response: LOW ALERT: Normal login activity (confidence: 0.84)\n",
      "\n",
      "--- Monitoring Cycle 10 ---\n",
      "Event detected: service_change\n",
      "Event data: {'service': 'unknown_service', 'change_type': 'dependency_update', 'commit_sha': '08a386ff78a855dd823038142fd90fec9346a778'}\n",
      "Agent response: SECURITY ALERT: Suspicious commit detected in unknown_service! Impacts 0 services. Recommend immediate review.\n",
      "\n",
      "Cybersecurity monitoring simulation completed.\n"
     ]
    }
   ],
   "source": [
    "# Run a full simulation with random events\n",
    "print(\"\\nRunning full cybersecurity monitoring simulation:\")\n",
    "for i in range(10):\n",
    "    print(f\"\\n--- Monitoring Cycle {i+1} ---\")\n",
    "    \n",
    "    # Randomly generate an event type\n",
    "    event_type = random.choice(['login_attempt', 'service_change', 'network_traffic', 'git_activity'])\n",
    "    event_data = generate_mock_data(event_type)\n",
    "    \n",
    "    print(f\"Event detected: {event_type}\")\n",
    "    print(f\"Event data: {event_data}\")\n",
    "    \n",
    "    # Agent perceives and acts on the event\n",
    "    action = agent.process_event(event_type, event_data)\n",
    "    \n",
    "    print(f\"Agent response: {action}\")\n",
    "\n",
    "print(\"\\nCybersecurity monitoring simulation completed.\")"
   ]
  },
  {
   "cell_type": "markdown",
   "metadata": {},
   "source": [
    "## 6. Review Data Storage"
   ]
  },
  {
   "cell_type": "code",
   "execution_count": 26,
   "metadata": {},
   "outputs": [
    {
     "name": "stdout",
     "output_type": "stream",
     "text": [
      "\n",
      "--- Data Storage Contents ---\n",
      "\n",
      "Login Analysis Records: 3\n",
      "Latest record: {'timestamp': 1741800069.5763788, 'username': 'user1', 'source_ip': '192.168.1.245', 'attack_probability': 0.15517241379310345}\n",
      "\n",
      "Service Impact Analysis Records: 1\n",
      "Latest record: {'changed_service': 'API Gateway', 'change_type': 'configuration_change', 'commit_sha': 'a1b2c3d4e5f6a1b2c3d4e5f6a1b2c3d4e5f6a1b2', 'impacted_services': ['Email Service', 'Notification Service', 'Payment Service', 'API Gateway', 'Inventory Service', 'User Service', 'Profile Service', 'Order Service'], 'commit_risk': 'high'}\n",
      "\n",
      "Network Analysis Records: 1\n",
      "Latest record: {'traffic_volume': 'high', 'protocol': 'UDP', 'internal_source': False, 'risk_probability': 0.58}\n",
      "\n",
      "MDP Decision Records: 1\n",
      "Latest record: {'state': 'network_anomaly', 'risk_level': 0.58, 'risk_category': 'medium', 'action': 'Flag for manual review'}\n",
      "\n",
      "Git Activity Analysis Records: 0\n"
     ]
    }
   ],
   "source": [
    "# Review data that has been stored during the simulation\n",
    "print(\"\\n--- Data Storage Contents ---\")\n",
    "\n",
    "# Check login analysis data\n",
    "login_data = agent.data_storage.retrieve('login_analysis')\n",
    "print(f\"\\nLogin Analysis Records: {len(login_data)}\")\n",
    "if login_data:\n",
    "    print(f\"Latest record: {login_data[-1]}\")\n",
    "\n",
    "# Check service impact analysis data\n",
    "service_data = agent.data_storage.retrieve('service_impact_analysis')\n",
    "print(f\"\\nService Impact Analysis Records: {len(service_data)}\")\n",
    "if service_data:\n",
    "    print(f\"Latest record: {service_data[-1]}\")\n",
    "\n",
    "# Check network analysis data\n",
    "network_data = agent.data_storage.retrieve('network_analysis')\n",
    "print(f\"\\nNetwork Analysis Records: {len(network_data)}\")\n",
    "if network_data:\n",
    "    print(f\"Latest record: {network_data[-1]}\")\n",
    "\n",
    "# Check MDP decision data\n",
    "mdp_data = agent.data_storage.retrieve('mdp_decision')\n",
    "print(f\"\\nMDP Decision Records: {len(mdp_data)}\")\n",
    "if mdp_data:\n",
    "    print(f\"Latest record: {mdp_data[-1]}\")\n",
    "\n",
    "# Check git activity analysis data\n",
    "git_data = agent.data_storage.retrieve('git_activity_analysis')\n",
    "print(f\"\\nGit Activity Analysis Records: {len(git_data)}\")\n",
    "if git_data:\n",
    "    print(f\"Latest record: {git_data[-1]}\")"
   ]
  }
 ],
 "metadata": {
  "kernelspec": {
   "display_name": "3.11.8",
   "language": "python",
   "name": "python3"
  },
  "language_info": {
   "codemirror_mode": {
    "name": "ipython",
    "version": 3
   },
   "file_extension": ".py",
   "mimetype": "text/x-python",
   "name": "python",
   "nbconvert_exporter": "python",
   "pygments_lexer": "ipython3",
   "version": "3.11.8"
  }
 },
 "nbformat": 4,
 "nbformat_minor": 2
}
