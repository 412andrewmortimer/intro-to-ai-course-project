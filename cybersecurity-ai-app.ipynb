{
 "cells": [
  {
   "cell_type": "markdown",
   "metadata": {},
   "source": [
    "# Cybersecurity AI Application Architecture\n",
    "\n",
    "```mermaid\n",
    "graph TD\n",
    "    %% Environmental Inputs\n",
    "    S[Environment/Sensors] --> A\n",
    "    \n",
    "    %% Main Application\n",
    "    A[cybersec_app.py] --> B[Agent Layer]\n",
    "    \n",
    "    %% Agent connects to all modules (bidirectional)\n",
    "    B <--> C1[Bayesian Analysis Module]\n",
    "    B <--> C2[Markov Decision Process Module]\n",
    "    B <--> C3[Git Activity Monitoring Module]\n",
    "    B <--> C4[Service Impact Analysis Module]\n",
    "    \n",
    "    %% Agent outputs actions\n",
    "    B --> ACT[Actions/Responses]\n",
    "    \n",
    "    %% Bayesian Module Components\n",
    "    C1 --> D1[bayesian_ids.py]\n",
    "    C1 --> D2[bayesian_network.py]\n",
    "    \n",
    "    %% MDP Module\n",
    "    C2 --> D3[markov_process.py]\n",
    "    \n",
    "    %% Git Activity Monitoring Module\n",
    "    C3 --> D4[git_activity.py]\n",
    "    \n",
    "    %% Service Impact Analysis Module\n",
    "    C4 --> D5[service_impact.py]\n",
    "    \n",
    "    %% Data Storage (bidirectional)\n",
    "    E[Data Storage Layer]\n",
    "    D1 <--> E\n",
    "    D2 <--> E\n",
    "    D3 <--> E\n",
    "    D4 <--> E\n",
    "    D5 <--> E\n",
    "    \n",
    "    %% Module Descriptions\n",
    "    classDef module fill:#f9f,stroke:#333,stroke-width:2px\n",
    "    classDef component fill:#bbf,stroke:#333,stroke-width:1px\n",
    "    classDef input fill:#dfd,stroke:#333,stroke-width:1px\n",
    "    classDef output fill:#fdd,stroke:#333,stroke-width:1px\n",
    "    \n",
    "    class A,B module\n",
    "    class C1,C2,C3,C4 module\n",
    "    class D1,D2,D3,D4,D5,E component\n",
    "    class S input\n",
    "    class ACT output\n",
    "```\n",
    "\n",
    "## Module Descriptions\n",
    "\n",
    "### Agent Layer\n",
    "- Implements the intelligent agent from Week 1\n",
    "- Uses search algorithms to detect and respond to changes\n",
    "- Acts as a simple reflex agent that processes inputs and determines appropriate actions\n",
    "- Coordinates analysis across all specialized security modules\n",
    "- Routes incoming security events to the appropriate processing module\n",
    "\n",
    "### Bayesian Analysis Module\n",
    "- **bayesian_ids.py**: Simple Bayesian analysis for intrusion detection systems\n",
    "  - Analyzes login attempts using conditional probabilities\n",
    "  - Identifies suspicious login patterns based on IP addresses and success rates\n",
    "- **bayesian_network.py**: Extended Bayesian network model incorporating multiple security factors\n",
    "  - Models relationships between security events using probabilistic graphical models\n",
    "  - Evaluates compound security risks using joint probability distributions\n",
    "\n",
    "### Markov Decision Process Module\n",
    "- **markov_process.py**: MDP implementation for optimal security response policies\n",
    "  - Models cybersecurity responses as states with transition probabilities\n",
    "  - Determines optimal actions to maximize security while minimizing disruption\n",
    "  - Adapts responses based on threat severity and past event history\n",
    "\n",
    "### Git Activity Monitoring Module\n",
    "- **git_activity.py**: Analyzes git repositories for suspicious activity and security risks\n",
    "  - Monitors repository interactions including pushes, branches, and clones\n",
    "  - Flags suspicious behavior such as force pushes to critical branches\n",
    "  - Analyzes commit patterns for signs of compromise or insider threats\n",
    "  - Evaluates code changes related to security-critical files\n",
    "\n",
    "### Service Impact Analysis Module\n",
    "- **service_impact.py**: DFS/BFS search algorithms for CI/CD pipeline optimization\n",
    "  - Analyzes the impact of changes to microservices architecture\n",
    "  - Uses graph traversal algorithms to identify affected dependencies\n",
    "  - Prioritizes security incidents based on potential service disruption\n",
    "  - Models service relationships to detect cascading security failures\n",
    "\n",
    "### Data Storage Layer\n",
    "- Persists analysis results and configurations\n",
    "- Enables sharing of information between modules\n",
    "- Maintains historical security event data for trend analysis\n",
    "- Supports audit trails for security incidents and responses\n",
    "- Provides structured storage for machine learning model inputs\n",
    "\n",
    "## Data Flow\n",
    "\n",
    "1. Agent perceives the environment through sensors\n",
    "2. Agent selects appropriate module based on perceived data\n",
    "3. Selected module processes the input using AI algorithms\n",
    "4. Results are used by the agent to determine actions\n",
    "5. Key insights and configurations stored in data layer\n",
    "\n",
    "This architecture implements an agent-based approach where the agent uses different AI techniques to monitor and respond to cybersecurity events. The agent replaces the traditional UI, providing more automated operation based on the search algorithms developed in Week 1.\n"
   ]
  },
  {
   "cell_type": "markdown",
   "metadata": {},
   "source": [
    "# Running the Cybersecurity AI Application\n",
    "\n",
    "This notebook allows you to run and test the Cybersecurity AI application directly. Below are the code cells needed to initialize and run the application."
   ]
  },
  {
   "cell_type": "markdown",
   "metadata": {},
   "source": [
    "## 1. Import Required Modules"
   ]
  },
  {
   "cell_type": "markdown",
   "metadata": {},
   "source": []
  },
  {
   "cell_type": "code",
   "execution_count": 121,
   "metadata": {},
   "outputs": [],
   "source": [
    "# Import necessary modules\n",
    "import time\n",
    "import random\n",
    "import sys\n",
    "import os\n",
    "from agent import Agent\n",
    "\n",
    "# Ensure the module paths are correct\n",
    "module_path = os.path.abspath(os.path.join('.'))\n",
    "if module_path not in sys.path:\n",
    "    sys.path.append(module_path)\n",
    "\n",
    "# Import the Agent"
   ]
  },
  {
   "cell_type": "markdown",
   "metadata": {},
   "source": [
    "## 2. Define Mock Data Generation Function"
   ]
  },
  {
   "cell_type": "code",
   "execution_count": 122,
   "metadata": {},
   "outputs": [],
   "source": [
    "def generate_mock_data(event_type):\n",
    "    \"\"\"Generate mock data for different event types for simulation\"\"\"\n",
    "    if event_type == 'login_attempt':\n",
    "        return {\n",
    "            'username': random.choice(['admin', 'user1', 'guest']),\n",
    "            'source_ip': f'192.168.1.{random.randint(1, 254)}' if random.random() > 0.3 else f'10.0.0.{random.randint(1, 254)}',\n",
    "            'timestamp': time.time(),\n",
    "            'successful': random.choice([True, False])\n",
    "        }\n",
    "    elif event_type == 'service_change':\n",
    "        # Randomly include a known malicious commit 5% of the time\n",
    "        if random.random() < 0.05:\n",
    "            commit_sha = 'a1b2c3d4e5f6a1b2c3d4e5f6a1b2c3d4e5f6a1b2'  # Known malicious\n",
    "        else:\n",
    "            commit_sha = ''.join(random.choices('abcdef1234567890', k=40))\n",
    "            \n",
    "        return {\n",
    "            'service': random.choice(['Auth Service', 'API Gateway', 'User Service', 'unknown_service']),\n",
    "            'change_type': random.choice(['code_update', 'configuration_change', 'dependency_update']),\n",
    "            'commit_sha': commit_sha\n",
    "        }\n",
    "    elif event_type == 'git_activity':\n",
    "        # Generate mock git activity events\n",
    "        git_event_types = ['push', 'clone', 'branch']\n",
    "        selected_event = random.choice(git_event_types)\n",
    "        \n",
    "        # Common fields\n",
    "        event_data = {\n",
    "            'event_type': selected_event,\n",
    "            'repo_name': random.choice(['main-service', 'auth-service', 'payment-api', 'user-interface']),\n",
    "            'user': random.choice(['developer1', 'developer2', 'admin', 'unknown_user']),\n",
    "            'timestamp': time.time(),\n",
    "            'ip_address': f'192.168.1.{random.randint(1, 254)}' if random.random() > 0.2 else f'203.0.113.{random.randint(1, 254)}'\n",
    "        }\n",
    "        \n",
    "        # Add event-specific fields\n",
    "        if selected_event == 'push':\n",
    "            # Generate 1-12 commits\n",
    "            num_commits = random.randint(1, 12)\n",
    "            event_data['commits'] = []\n",
    "            for _ in range(num_commits):\n",
    "                commit = {\n",
    "                    'commit_sha': ''.join(random.choices('abcdef1234567890', k=40)),\n",
    "                    'message': random.choice(['Update README', 'Fix bug in auth module', 'Add new feature', 'Refactor code', 'Update dependencies']),\n",
    "                    'files_changed': []\n",
    "                }\n",
    "                # Add 1-5 changed files\n",
    "                num_files = random.randint(1, 5)\n",
    "                file_paths = [\n",
    "                    'src/main.py', 'config/settings.json', 'docs/README.md',\n",
    "                    'src/auth/login.py', 'tests/test_api.py', 'security/encryption.py',\n",
    "                    'src/models/user.py', '.env.example', 'config/secrets.py'\n",
    "                ]\n",
    "                commit['files_changed'] = random.sample(file_paths, min(num_files, len(file_paths)))\n",
    "                event_data['commits'].append(commit)\n",
    "                \n",
    "            # Small chance of being a force push\n",
    "            event_data['force_push'] = random.random() < 0.1\n",
    "            \n",
    "        elif selected_event == 'branch':\n",
    "            # Branch creation or deletion\n",
    "            event_data['action'] = random.choice(['created', 'deleted'])\n",
    "            branch_prefixes = ['feature/', 'bugfix/', 'hotfix/', 'release/', 'temp/', 'test/']\n",
    "            event_data['branch_name'] = random.choice(branch_prefixes) + random.choice(['auth-update', 'payment-fix', 'ui-redesign', 'admin-tools', 'security-patch'])\n",
    "            \n",
    "            # For deleted branches, add age\n",
    "            if event_data['action'] == 'deleted':\n",
    "                event_data['branch_age_hours'] = random.uniform(0.5, 120)  # 30 minutes to 5 days\n",
    "        \n",
    "        # Clone events have all necessary data already\n",
    "            \n",
    "        return event_data\n",
    "    else:  # network_traffic\n",
    "        return {\n",
    "            'source_ip': f'192.168.1.{random.randint(1, 254)}' if random.random() > 0.2 else f'8.8.8.{random.randint(1, 254)}',\n",
    "            'destination_ip': f'10.0.0.{random.randint(1, 254)}',\n",
    "            'protocol': random.choice(['TCP', 'UDP', 'HTTP']),\n",
    "            'packet_count': random.randint(10, 1000)\n",
    "        }"
   ]
  },
  {
   "cell_type": "markdown",
   "metadata": {},
   "source": [
    "## 3. Initialize the Agent"
   ]
  },
  {
   "cell_type": "code",
   "execution_count": 123,
   "metadata": {},
   "outputs": [
    {
     "name": "stdout",
     "output_type": "stream",
     "text": [
      "Starting Cybersecurity AI Application...\n",
      "Initializing agent and modules...\n",
      "Agent initialized with all modules\n",
      "Agent initialization complete.\n"
     ]
    }
   ],
   "source": [
    "# Create and initialize the agent\n",
    "print(\"Starting Cybersecurity AI Application...\")\n",
    "print(\"Initializing agent and modules...\")\n",
    "\n",
    "agent = Agent()\n",
    "print(\"Agent initialization complete.\")"
   ]
  },
  {
   "cell_type": "markdown",
   "metadata": {},
   "source": [
    "## 4. Run Test Cases\n",
    "\n",
    "### 4.1 Test Login Attempt Detection"
   ]
  },
  {
   "cell_type": "code",
   "execution_count": 124,
   "metadata": {},
   "outputs": [
    {
     "name": "stdout",
     "output_type": "stream",
     "text": [
      "--- Testing Login Attempt Detection ---\n",
      "Event data: {'username': 'admin', 'source_ip': '10.0.0.25', 'timestamp': 1741812655.425189, 'successful': False}\n",
      "Agent response: MEDIUM ALERT: Suspicious activity detected (confidence: 0.66)\n",
      "\n"
     ]
    }
   ],
   "source": [
    "# Test with a suspicious login attempt (admin, failed login)\n",
    "suspicious_login = {\n",
    "    'username': 'admin',\n",
    "    'source_ip': '10.0.0.25',  # External IP\n",
    "    'timestamp': time.time(),\n",
    "    'successful': False  # Failed login\n",
    "}\n",
    "\n",
    "print(\"--- Testing Login Attempt Detection ---\")\n",
    "print(f\"Event data: {suspicious_login}\")\n",
    "action = agent.process_event('login_attempt', suspicious_login)\n",
    "print(f\"Agent response: {action}\\n\")"
   ]
  },
  {
   "cell_type": "markdown",
   "metadata": {},
   "source": [
    "### 4.2 Test Service Change Impact Analysis"
   ]
  },
  {
   "cell_type": "code",
   "execution_count": 125,
   "metadata": {},
   "outputs": [
    {
     "name": "stdout",
     "output_type": "stream",
     "text": [
      "--- Testing Service Change Impact Analysis ---\n",
      "Event data: {'service': 'API Gateway', 'change_type': 'configuration_change', 'commit_sha': 'a1b2c3d4e5f6a1b2c3d4e5f6a1b2c3d4e5f6a1b2'}\n",
      "Agent response: SECURITY ALERT: Suspicious commit detected in API Gateway! Impacts 8 services. Recommend immediate review.\n",
      "\n"
     ]
    }
   ],
   "source": [
    "# Test with a suspicious service change (known malicious commit)\n",
    "suspicious_change = {\n",
    "    'service': 'API Gateway',\n",
    "    'change_type': 'configuration_change',\n",
    "    'commit_sha': 'a1b2c3d4e5f6a1b2c3d4e5f6a1b2c3d4e5f6a1b2'  # Known malicious\n",
    "}\n",
    "\n",
    "print(\"--- Testing Service Change Impact Analysis ---\")\n",
    "print(f\"Event data: {suspicious_change}\")\n",
    "action = agent.process_event('service_change', suspicious_change)\n",
    "print(f\"Agent response: {action}\\n\")"
   ]
  },
  {
   "cell_type": "markdown",
   "metadata": {},
   "source": [
    "### 4.3 Test Network Traffic Analysis"
   ]
  },
  {
   "cell_type": "code",
   "execution_count": 126,
   "metadata": {},
   "outputs": [
    {
     "name": "stdout",
     "output_type": "stream",
     "text": [
      "--- Testing Network Traffic Analysis ---\n",
      "Event data: {'source_ip': '8.8.8.45', 'destination_ip': '10.0.0.10', 'protocol': 'UDP', 'packet_count': 950}\n",
      "Agent response: NETWORK ACTION: Flag for manual review (risk level: 0.58)\n",
      "\n"
     ]
    }
   ],
   "source": [
    "# Test with suspicious network traffic (high volume, external source)\n",
    "suspicious_traffic = {\n",
    "    'source_ip': '8.8.8.45',  # External IP\n",
    "    'destination_ip': '10.0.0.10',\n",
    "    'protocol': 'UDP',  # More suspicious than HTTP\n",
    "    'packet_count': 950  # High volume\n",
    "}\n",
    "\n",
    "print(\"--- Testing Network Traffic Analysis ---\")\n",
    "print(f\"Event data: {suspicious_traffic}\")\n",
    "action = agent.process_event('network_traffic', suspicious_traffic)\n",
    "print(f\"Agent response: {action}\\n\")"
   ]
  },
  {
   "cell_type": "markdown",
   "metadata": {},
   "source": [
    "### 4.4 Test Git Activity Monitoring"
   ]
  },
  {
   "cell_type": "code",
   "execution_count": 127,
   "metadata": {},
   "outputs": [
    {
     "name": "stdout",
     "output_type": "stream",
     "text": [
      "--- Testing Git Activity Monitoring ---\n",
      "Event data: {'event_type': 'push', 'repo_name': 'auth-service', 'user': 'developer1', 'timestamp': 1741769455.444584, 'ip_address': '203.0.113.45', 'commits': [{'commit_sha': 'abc123def456abc123def456abc123def456abc1', 'message': 'quick fix', 'files_changed': ['security/auth.py', 'config/secrets.py', '.env']}], 'force_push': True}\n",
      "Agent response: Unknown event type, no action taken\n",
      "\n"
     ]
    }
   ],
   "source": [
    "# Test with suspicious git activity\n",
    "suspicious_git_activity = {\n",
    "    'event_type': 'push',\n",
    "    'repo_name': 'auth-service',\n",
    "    'user': 'developer1',\n",
    "    'timestamp': time.time() - 12 * 3600,  # 12 hours ago (middle of night)\n",
    "    'ip_address': '203.0.113.45',  # External IP\n",
    "    'commits': [\n",
    "        {\n",
    "            'commit_sha': 'abc123def456abc123def456abc123def456abc1',\n",
    "            'message': 'quick fix',\n",
    "            'files_changed': ['security/auth.py', 'config/secrets.py', '.env']\n",
    "        }\n",
    "    ],\n",
    "    'force_push': True\n",
    "}\n",
    "\n",
    "print(\"--- Testing Git Activity Monitoring ---\")\n",
    "print(f\"Event data: {suspicious_git_activity}\")\n",
    "action = agent.process_event('git_activity', suspicious_git_activity)\n",
    "print(f\"Agent response: {action}\\n\")"
   ]
  },
  {
   "cell_type": "markdown",
   "metadata": {},
   "source": [
    "## 5. Run a Full Simulation"
   ]
  },
  {
   "cell_type": "code",
   "execution_count": 128,
   "metadata": {},
   "outputs": [
    {
     "name": "stdout",
     "output_type": "stream",
     "text": [
      "\n",
      "Running full cybersecurity monitoring simulation:\n",
      "\n",
      "--- Monitoring Cycle 1 ---\n",
      "Event detected: service_change\n",
      "Event data: {'service': 'Auth Service', 'change_type': 'code_update', 'commit_sha': '61b9d84c40824cdb3e004b48e5f4b1eeabee0d43'}\n",
      "Agent response: SECURITY ALERT: Suspicious commit detected in Auth Service! Impacts 9 services. Recommend immediate review.\n",
      "\n",
      "--- Monitoring Cycle 2 ---\n",
      "Event detected: login_attempt\n",
      "Event data: {'username': 'admin', 'source_ip': '192.168.1.7', 'timestamp': 1741812655.449572, 'successful': True}\n",
      "Agent response: LOW ALERT: Normal login activity (confidence: 0.73)\n",
      "\n",
      "--- Monitoring Cycle 3 ---\n",
      "Event detected: git_activity\n",
      "Event data: {'event_type': 'clone', 'repo_name': 'payment-api', 'user': 'developer2', 'timestamp': 1741812655.449603, 'ip_address': '192.168.1.81'}\n",
      "Agent response: Unknown event type, no action taken\n",
      "\n",
      "--- Monitoring Cycle 4 ---\n",
      "Event detected: network_traffic\n",
      "Event data: {'source_ip': '192.168.1.68', 'destination_ip': '10.0.0.107', 'protocol': 'HTTP', 'packet_count': 536}\n",
      "Agent response: NETWORK ACTION: Flag for manual review (risk level: 0.37)\n",
      "\n",
      "--- Monitoring Cycle 5 ---\n",
      "Event detected: network_traffic\n",
      "Event data: {'source_ip': '8.8.8.65', 'destination_ip': '10.0.0.26', 'protocol': 'TCP', 'packet_count': 629}\n",
      "Agent response: NETWORK ACTION: Flag for manual review (risk level: 0.55)\n",
      "\n",
      "--- Monitoring Cycle 6 ---\n",
      "Event detected: login_attempt\n",
      "Event data: {'username': 'user1', 'source_ip': '10.0.0.32', 'timestamp': 1741812655.4496481, 'successful': False}\n",
      "Agent response: MEDIUM ALERT: Suspicious activity detected (confidence: 0.47)\n",
      "\n",
      "--- Monitoring Cycle 7 ---\n",
      "Event detected: login_attempt\n",
      "Event data: {'username': 'admin', 'source_ip': '10.0.0.113', 'timestamp': 1741812655.4496691, 'successful': True}\n",
      "Agent response: MEDIUM ALERT: Suspicious activity detected (confidence: 0.36)\n",
      "\n",
      "--- Monitoring Cycle 8 ---\n",
      "Event detected: git_activity\n",
      "Event data: {'event_type': 'clone', 'repo_name': 'auth-service', 'user': 'admin', 'timestamp': 1741812655.449686, 'ip_address': '203.0.113.156'}\n",
      "Agent response: Unknown event type, no action taken\n",
      "\n",
      "--- Monitoring Cycle 9 ---\n",
      "Event detected: git_activity\n",
      "Event data: {'event_type': 'push', 'repo_name': 'main-service', 'user': 'developer1', 'timestamp': 1741812655.4497, 'ip_address': '192.168.1.34', 'commits': [{'commit_sha': '6d562c978ca291a46767d18be3ddd6a07f6c4ac8', 'message': 'Fix bug in auth module', 'files_changed': ['config/secrets.py', 'src/models/user.py']}, {'commit_sha': 'fc5eb69dc91e0ef0353161cfa6cfe82f65ac3969', 'message': 'Update dependencies', 'files_changed': ['security/encryption.py', 'docs/README.md', 'src/models/user.py', 'src/auth/login.py', 'src/main.py']}, {'commit_sha': 'd0e081376942c0af6526652699e6a1e9e7d51fb2', 'message': 'Update dependencies', 'files_changed': ['security/encryption.py', 'tests/test_api.py']}, {'commit_sha': '10f8857ecf68758e568ff6fd779bc02833293f81', 'message': 'Update README', 'files_changed': ['tests/test_api.py', 'config/secrets.py']}, {'commit_sha': 'f49ef0c56c1d12b7e99663107fe027fd57173ff1', 'message': 'Add new feature', 'files_changed': ['.env.example', 'config/secrets.py', 'src/main.py']}, {'commit_sha': '04e87a154c4903e5d2c3ca4dcc215fcb7aa02cfc', 'message': 'Update README', 'files_changed': ['security/encryption.py', 'src/models/user.py', '.env.example']}, {'commit_sha': '77b52a05ae5b448025c57ffb924704b2e9fe7b0c', 'message': 'Fix bug in auth module', 'files_changed': ['security/encryption.py', '.env.example']}, {'commit_sha': '4ab54ef6a27d599abc41e4c9ac548bf9ec0508b0', 'message': 'Update README', 'files_changed': ['src/auth/login.py', 'docs/README.md', 'src/main.py']}, {'commit_sha': '5efb304743f9f4900257d8c1da781adc3d9c3cc8', 'message': 'Fix bug in auth module', 'files_changed': ['security/encryption.py', 'config/secrets.py', 'tests/test_api.py', 'src/auth/login.py']}, {'commit_sha': '2daf80fa76952bc12f7c12561c29a5fd788d5125', 'message': 'Fix bug in auth module', 'files_changed': ['src/auth/login.py']}, {'commit_sha': '0d4091b86bc6dfe08a75361c406410f1c45ba771', 'message': 'Update dependencies', 'files_changed': ['src/main.py']}, {'commit_sha': '017571d1b407cbd1320a1d4a5a93ea528a215c9c', 'message': 'Refactor code', 'files_changed': ['.env.example', 'src/main.py', 'config/secrets.py', 'security/encryption.py']}], 'force_push': False}\n",
      "Agent response: Unknown event type, no action taken\n",
      "\n",
      "--- Monitoring Cycle 10 ---\n",
      "Event detected: git_activity\n",
      "Event data: {'event_type': 'branch', 'repo_name': 'payment-api', 'user': 'developer2', 'timestamp': 1741812655.449804, 'ip_address': '192.168.1.40', 'action': 'created', 'branch_name': 'test/ui-redesign'}\n",
      "Agent response: Unknown event type, no action taken\n",
      "\n",
      "Cybersecurity monitoring simulation completed.\n"
     ]
    }
   ],
   "source": [
    "# Run a full simulation with random events\n",
    "print(\"\\nRunning full cybersecurity monitoring simulation:\")\n",
    "for i in range(10):\n",
    "    print(f\"\\n--- Monitoring Cycle {i+1} ---\")\n",
    "    \n",
    "    # Randomly generate an event type\n",
    "    event_type = random.choice(['login_attempt', 'service_change', 'network_traffic', 'git_activity'])\n",
    "    event_data = generate_mock_data(event_type)\n",
    "    \n",
    "    print(f\"Event detected: {event_type}\")\n",
    "    print(f\"Event data: {event_data}\")\n",
    "    \n",
    "    # Agent perceives and acts on the event\n",
    "    action = agent.process_event(event_type, event_data)\n",
    "    \n",
    "    print(f\"Agent response: {action}\")\n",
    "\n",
    "print(\"\\nCybersecurity monitoring simulation completed.\")"
   ]
  },
  {
   "cell_type": "markdown",
   "metadata": {},
   "source": [
    "## 6. Review Data Storage"
   ]
  },
  {
   "cell_type": "code",
   "execution_count": 129,
   "metadata": {},
   "outputs": [
    {
     "name": "stdout",
     "output_type": "stream",
     "text": [
      "\n",
      "--- Data Storage Contents ---\n",
      "\n",
      "Login Analysis Records: 4\n",
      "Latest record: {'timestamp': 1741812655.4496691, 'username': 'admin', 'source_ip': '10.0.0.113', 'attack_probability': 0.36486486486486486}\n",
      "\n",
      "Service Impact Analysis Records: 2\n",
      "Latest record: {'changed_service': 'Auth Service', 'change_type': 'code_update', 'commit_sha': '61b9d84c40824cdb3e004b48e5f4b1eeabee0d43', 'impacted_services': ['Auth Service', 'Email Service', 'Notification Service', 'Payment Service', 'API Gateway', 'Inventory Service', 'User Service', 'Profile Service', 'Order Service'], 'commit_risk': 'high'}\n",
      "\n",
      "Network Analysis Records: 3\n",
      "Latest record: {'traffic_volume': 'high', 'protocol': 'TCP', 'internal_source': False, 'risk_probability': 0.55}\n",
      "\n",
      "MDP Decision Records: 3\n",
      "Latest record: {'state': 'network_anomaly', 'risk_level': 0.55, 'risk_category': 'medium', 'action': 'Flag for manual review'}\n",
      "\n",
      "Git Activity Analysis Records: 0\n"
     ]
    }
   ],
   "source": [
    "# Review data that has been stored during the simulation\n",
    "print(\"\\n--- Data Storage Contents ---\")\n",
    "\n",
    "# Check login analysis data\n",
    "login_data = agent.data_storage.retrieve('login_analysis')\n",
    "print(f\"\\nLogin Analysis Records: {len(login_data)}\")\n",
    "if login_data:\n",
    "    print(f\"Latest record: {login_data[-1]}\")\n",
    "\n",
    "# Check service impact analysis data\n",
    "service_data = agent.data_storage.retrieve('service_impact_analysis')\n",
    "print(f\"\\nService Impact Analysis Records: {len(service_data)}\")\n",
    "if service_data:\n",
    "    print(f\"Latest record: {service_data[-1]}\")\n",
    "\n",
    "# Check network analysis data\n",
    "network_data = agent.data_storage.retrieve('network_analysis')\n",
    "print(f\"\\nNetwork Analysis Records: {len(network_data)}\")\n",
    "if network_data:\n",
    "    print(f\"Latest record: {network_data[-1]}\")\n",
    "\n",
    "# Check MDP decision data\n",
    "mdp_data = agent.data_storage.retrieve('mdp_decision')\n",
    "print(f\"\\nMDP Decision Records: {len(mdp_data)}\")\n",
    "if mdp_data:\n",
    "    print(f\"Latest record: {mdp_data[-1]}\")\n",
    "\n",
    "# Check git activity analysis data\n",
    "git_data = agent.data_storage.retrieve('git_activity_analysis')\n",
    "print(f\"\\nGit Activity Analysis Records: {len(git_data)}\")\n",
    "if git_data:\n",
    "    print(f\"Latest record: {git_data[-1]}\")"
   ]
  }
 ],
 "metadata": {
  "kernelspec": {
   "display_name": "3.11.8",
   "language": "python",
   "name": "python3"
  },
  "language_info": {
   "codemirror_mode": {
    "name": "ipython",
    "version": 3
   },
   "file_extension": ".py",
   "mimetype": "text/x-python",
   "name": "python",
   "nbconvert_exporter": "python",
   "pygments_lexer": "ipython3",
   "version": "3.11.8"
  }
 },
 "nbformat": 4,
 "nbformat_minor": 2
}
