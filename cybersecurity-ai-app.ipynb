{
 "cells": [
  {
   "cell_type": "markdown",
   "metadata": {},
   "source": [
    "# Cybersecurity AI Application Architecture\n",
    "\n",
    "```mermaid\n",
    "graph TD\n",
    "    %% Main Application\n",
    "    A[cybersec_app.py] --> B[Agent Layer]\n",
    "    \n",
    "    %% Agent connects to all modules\n",
    "    B --> C1[Bayesian Analysis Module]\n",
    "    B --> C2[Markov Decision Process Module]\n",
    "    B --> C4[Service Impact Analysis Module]\n",
    "    \n",
    "    %% Bayesian Module Components\n",
    "    C1 --> D1[bayesian_ids.py]\n",
    "    C1 --> D2[bayesian_network.py]\n",
    "    \n",
    "    %% MDP Module\n",
    "    C2 --> D3[markov_process.py]\n",
    "    \n",
    "    %% Service Impact Analysis Module\n",
    "    C4 --> D5[service_impact.py]\n",
    "    \n",
    "    %% Data Storage\n",
    "    E[Data Storage Layer]\n",
    "    D1 --> E\n",
    "    D2 --> E\n",
    "    D3 --> E\n",
    "    D5 --> E\n",
    "    \n",
    "    %% Module Descriptions\n",
    "    classDef module fill:#f9f,stroke:#333,stroke-width:2px\n",
    "    classDef component fill:#bbf,stroke:#333,stroke-width:1px\n",
    "    \n",
    "    class A,B module\n",
    "    class C1,C2,C4 module\n",
    "    class D1,D2,D3,D5,E component\n",
    "```\n",
    "\n",
    "## Module Descriptions\n",
    "\n",
    "### Agent Layer\n",
    "- Implements the intelligent agent from Week 1\n",
    "- Uses search algorithms to detect and respond to changes\n",
    "- Acts as a simple reflex agent that processes inputs and determines appropriate actions\n",
    "\n",
    "### Bayesian Analysis Module\n",
    "- **bayesian_ids.py**: Simple Bayesian analysis for intrusion detection systems\n",
    "- **bayesian_network.py**: Extended Bayesian network model incorporating multiple security factors\n",
    "\n",
    "### Markov Decision Process Module\n",
    "- **markov_process.py**: MDP implementation for optimal security response policies\n",
    "\n",
    "### Service Impact Analysis Module\n",
    "- **service_impact.py**: DFS/BFS search algorithms for CI/CD pipeline optimization\n",
    "\n",
    "### Data Storage Layer\n",
    "- Persists analysis results and configurations\n",
    "- Enables sharing of information between modules\n",
    "\n",
    "## Data Flow\n",
    "\n",
    "1. Agent perceives the environment through sensors\n",
    "2. Agent selects appropriate module based on perceived data\n",
    "3. Selected module processes the input using AI algorithms\n",
    "4. Results are used by the agent to determine actions\n",
    "5. Key insights and configurations stored in data layer\n",
    "\n",
    "This architecture implements an agent-based approach where the agent uses different AI techniques to monitor and respond to cybersecurity events. The agent replaces the traditional UI, providing more automated operation based on the search algorithms developed in Week 1.\n"
   ]
  },
  {
   "cell_type": "markdown",
   "metadata": {},
   "source": [
    "# Running the Cybersecurity AI Application\n",
    "\n",
    "This notebook allows you to run and test the Cybersecurity AI application directly. Below are the code cells needed to initialize and run the application."
   ]
  },
  {
   "cell_type": "markdown",
   "metadata": {},
   "source": [
    "## 1. Import Required Modules"
   ]
  },
  {
   "cell_type": "code",
   "execution_count": null,
   "metadata": {},
   "outputs": [],
   "source": [
    "# Import necessary modules\n",
    "import time\n",
    "import random\n",
    "import sys\n",
    "import os\n",
    "\n",
    "# Ensure the module paths are correct\n",
    "module_path = os.path.abspath(os.path.join('.'))\n",
    "if module_path not in sys.path:\n",
    "    sys.path.append(module_path)\n",
    "\n",
    "# Import the Agent\n",
    "from agent import Agent"
   ]
  },
  {
   "cell_type": "markdown",
   "metadata": {},
   "source": [
    "## 2. Define Mock Data Generation Function"
   ]
  },
  {
   "cell_type": "code",
   "execution_count": null,
   "metadata": {},
   "outputs": [],
   "source": [
    "def generate_mock_data(event_type):\n",
    "    \"\"\"Generate mock data for different event types for simulation\"\"\"\n",
    "    if event_type == 'login_attempt':\n",
    "        return {\n",
    "            'username': random.choice(['admin', 'user1', 'guest']),\n",
    "            'source_ip': f'192.168.1.{random.randint(1, 254)}' if random.random() > 0.3 else f'10.0.0.{random.randint(1, 254)}',\n",
    "            'timestamp': time.time(),\n",
    "            'successful': random.choice([True, False])\n",
    "        }\n",
    "    elif event_type == 'service_change':\n",
    "        # Randomly include a known malicious commit 5% of the time\n",
    "        if random.random() < 0.05:\n",
    "            commit_sha = 'a1b2c3d4e5f6a1b2c3d4e5f6a1b2c3d4e5f6a1b2'  # Known malicious\n",
    "        else:\n",
    "            commit_sha = ''.join(random.choices('abcdef1234567890', k=40))\n",
    "            \n",
    "        return {\n",
    "            'service': random.choice(['Auth Service', 'API Gateway', 'User Service', 'unknown_service']),\n",
    "            'change_type': random.choice(['code_update', 'configuration_change', 'dependency_update']),\n",
    "            'commit_sha': commit_sha\n",
    "        }\n",
    "    else:  # network_traffic\n",
    "        return {\n",
    "            'source_ip': f'192.168.1.{random.randint(1, 254)}' if random.random() > 0.2 else f'8.8.8.{random.randint(1, 254)}',\n",
    "            'destination_ip': f'10.0.0.{random.randint(1, 254)}',\n",
    "            'protocol': random.choice(['TCP', 'UDP', 'HTTP']),\n",
    "            'packet_count': random.randint(10, 1000)\n",
    "        }"
   ]
  },
  {
   "cell_type": "markdown",
   "metadata": {},
   "source": [
    "## 3. Initialize the Agent"
   ]
  },
  {
   "cell_type": "code",
   "execution_count": null,
   "metadata": {},
   "outputs": [],
   "source": [
    "# Create and initialize the agent\n",
    "print(\"Starting Cybersecurity AI Application...\")\n",
    "print(\"Initializing agent and modules...\")\n",
    "\n",
    "agent = Agent()\n",
    "print(\"Agent initialization complete.\")"
   ]
  },
  {
   "cell_type": "markdown",
   "metadata": {},
   "source": [
    "## 4. Run Test Cases\n",
    "\n",
    "### 4.1 Test Login Attempt Detection"
   ]
  },
  {
   "cell_type": "code",
   "execution_count": null,
   "metadata": {},
   "outputs": [],
   "source": [
    "# Test with a suspicious login attempt (admin, failed login)\n",
    "suspicious_login = {\n",
    "    'username': 'admin',\n",
    "    'source_ip': '10.0.0.25',  # External IP\n",
    "    'timestamp': time.time(),\n",
    "    'successful': False  # Failed login\n",
    "}\n",
    "\n",
    "print(\"--- Testing Login Attempt Detection ---\")\n",
    "print(f\"Event data: {suspicious_login}\")\n",
    "action = agent.process_event('login_attempt', suspicious_login)\n",
    "print(f\"Agent response: {action}\\n\")"
   ]
  },
  {
   "cell_type": "markdown",
   "metadata": {},
   "source": [
    "### 4.2 Test Service Change Impact Analysis"
   ]
  },
  {
   "cell_type": "code",
   "execution_count": null,
   "metadata": {},
   "outputs": [],
   "source": [
    "# Test with a suspicious service change (known malicious commit)\n",
    "suspicious_change = {\n",
    "    'service': 'API Gateway',\n",
    "    'change_type': 'configuration_change',\n",
    "    'commit_sha': 'a1b2c3d4e5f6a1b2c3d4e5f6a1b2c3d4e5f6a1b2'  # Known malicious\n",
    "}\n",
    "\n",
    "print(\"--- Testing Service Change Impact Analysis ---\")\n",
    "print(f\"Event data: {suspicious_change}\")\n",
    "action = agent.process_event('service_change', suspicious_change)\n",
    "print(f\"Agent response: {action}\\n\")"
   ]
  },
  {
   "cell_type": "markdown",
   "metadata": {},
   "source": [
    "### 4.3 Test Network Traffic Analysis"
   ]
  },
  {
   "cell_type": "code",
   "execution_count": null,
   "metadata": {},
   "outputs": [],
   "source": [
    "# Test with suspicious network traffic (high volume, external source)\n",
    "suspicious_traffic = {\n",
    "    'source_ip': '8.8.8.45',  # External IP\n",
    "    'destination_ip': '10.0.0.10',\n",
    "    'protocol': 'UDP',  # More suspicious than HTTP\n",
    "    'packet_count': 950  # High volume\n",
    "}\n",
    "\n",
    "print(\"--- Testing Network Traffic Analysis ---\")\n",
    "print(f\"Event data: {suspicious_traffic}\")\n",
    "action = agent.process_event('network_traffic', suspicious_traffic)\n",
    "print(f\"Agent response: {action}\\n\")"
   ]
  },
  {
   "cell_type": "markdown",
   "metadata": {},
   "source": [
    "## 5. Run a Full Simulation"
   ]
  },
  {
   "cell_type": "code",
   "execution_count": null,
   "metadata": {},
   "outputs": [],
   "source": [
    "# Run a full simulation with random events\n",
    "print(\"\\nRunning full cybersecurity monitoring simulation:\")\n",
    "for i in range(5):\n",
    "    print(f\"\\n--- Monitoring Cycle {i+1} ---\")\n",
    "    \n",
    "    # Randomly generate an event type\n",
    "    event_type = random.choice(['login_attempt', 'service_change', 'network_traffic'])\n",
    "    event_data = generate_mock_data(event_type)\n",
    "    \n",
    "    print(f\"Event detected: {event_type}\")\n",
    "    print(f\"Event data: {event_data}\")\n",
    "    \n",
    "    # Agent perceives and acts on the event\n",
    "    action = agent.process_event(event_type, event_data)\n",
    "    \n",
    "    print(f\"Agent response: {action}\")\n",
    "\n",
    "print(\"\\nCybersecurity monitoring simulation completed.\")"
   ]
  },
  {
   "cell_type": "markdown",
   "metadata": {},
   "source": [
    "## 6. Review Data Storage"
   ]
  },
  {
   "cell_type": "code",
   "execution_count": null,
   "metadata": {},
   "outputs": [],
   "source": [
    "# Review data that has been stored during the simulation\n",
    "print(\"\\n--- Data Storage Contents ---\")\n",
    "\n",
    "# Check login analysis data\n",
    "login_data = agent.data_storage.retrieve('login_analysis')\n",
    "print(f\"\\nLogin Analysis Records: {len(login_data)}\")\n",
    "if login_data:\n",
    "    print(f\"Latest record: {login_data[-1]}\")\n",
    "\n",
    "# Check service impact analysis data\n",
    "service_data = agent.data_storage.retrieve('service_impact_analysis')\n",
    "print(f\"\\nService Impact Analysis Records: {len(service_data)}\")\n",
    "if service_data:\n",
    "    print(f\"Latest record: {service_data[-1]}\")\n",
    "\n",
    "# Check network analysis data\n",
    "network_data = agent.data_storage.retrieve('network_analysis')\n",
    "print(f\"\\nNetwork Analysis Records: {len(network_data)}\")\n",
    "if network_data:\n",
    "    print(f\"Latest record: {network_data[-1]}\")\n",
    "\n",
    "# Check MDP decision data\n",
    "mdp_data = agent.data_storage.retrieve('mdp_decision')\n",
    "print(f\"\\nMDP Decision Records: {len(mdp_data)}\")\n",
    "if mdp_data:\n",
    "    print(f\"Latest record: {mdp_data[-1]}\")"
   ]
  }
 ],
 "metadata": {
  "kernelspec": {
   "display_name": ".venv",
   "language": "python",
   "name": "python3"
  },
  "language_info": {
   "name": "python",
   "version": "3.9.6"
  }
 },
 "nbformat": 4,
 "nbformat_minor": 2
}
